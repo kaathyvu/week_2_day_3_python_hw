{
 "cells": [
  {
   "cell_type": "markdown",
   "metadata": {},
   "source": [
    "# Dictionaries, Sets, & Importing Modules"
   ]
  },
  {
   "cell_type": "markdown",
   "metadata": {},
   "source": [
    "## Tasks Today:\n",
    "\n",
    "1) Dictionary <br>\n",
    " &nbsp;&nbsp;&nbsp;&nbsp; a) Declaring (key, value) <br>\n",
    " &nbsp;&nbsp;&nbsp;&nbsp; b) Accessing Values <br>\n",
    " &nbsp;&nbsp;&nbsp;&nbsp; ------ Exercise #1 - Print the eye color of each person in a double nested dict <br>\n",
    " &nbsp;&nbsp;&nbsp;&nbsp; c) Adding New Pairs <br>\n",
    " &nbsp;&nbsp;&nbsp;&nbsp; d) Modifying Values <br>\n",
    " &nbsp;&nbsp;&nbsp;&nbsp; e) Removing Key, Value Pairs <br>\n",
    " &nbsp;&nbsp;&nbsp;&nbsp; f) Looping a Dictionary <br>\n",
    " &nbsp;&nbsp;&nbsp;&nbsp; g) Looping Only Keys <br>\n",
    " &nbsp;&nbsp;&nbsp;&nbsp; h) Looping Only Values <br>\n",
    " &nbsp;&nbsp;&nbsp;&nbsp; ------ Exercise #2 - Create a Function that Prints All Key Value Pairs within a print .format()  <br>\n",
    " &nbsp;&nbsp;&nbsp;&nbsp; i) sorted() <br>\n",
    " &nbsp;&nbsp;&nbsp;&nbsp; j) Lists with Dictionaries <br>\n",
    " &nbsp;&nbsp;&nbsp;&nbsp; k) Dictionaries with Lists <br>\n",
    " &nbsp;&nbsp;&nbsp;&nbsp; l) Dictionaries with Dictionaries <br>\n",
    " &nbsp;&nbsp;&nbsp;&nbsp; ------ Exercise #3 - Write a Function that asks someone's name and address, and then stores that into a dictionary, which prints all names and addresses after they're done putting information in...  <br>\n",
    "2) Dictionaries vs. Lists (over time)<br>\n",
    "3) Set <br>\n",
    " &nbsp;&nbsp;&nbsp;&nbsp; a) Declaring <br>\n",
    " &nbsp;&nbsp;&nbsp;&nbsp; b) .add() <br>\n",
    " &nbsp;&nbsp;&nbsp;&nbsp; c) .remove() <br>\n",
    " &nbsp;&nbsp;&nbsp;&nbsp; d) .union() <br>\n",
    " &nbsp;&nbsp;&nbsp;&nbsp; e) .intersection() <br>\n",
    " &nbsp;&nbsp;&nbsp;&nbsp; f) .difference() <br>\n",
    " &nbsp;&nbsp;&nbsp;&nbsp; g) Frozen Set <br>\n",
    "4) Modules <br>\n",
    " &nbsp;&nbsp;&nbsp;&nbsp; a) Importing Entire Modules <br>\n",
    " &nbsp;&nbsp;&nbsp;&nbsp; b) Importing Methods Only <br>\n",
    " &nbsp;&nbsp;&nbsp;&nbsp; c) Using the 'as' Keyword <br>\n",
    " &nbsp;&nbsp;&nbsp;&nbsp; d) Creating a Module <br>\n",
    "5) Exercises <br>\n",
    " &nbsp;&nbsp;&nbsp;&nbsp; a) Build a Shopping Cart <br>\n",
    " &nbsp;&nbsp;&nbsp;&nbsp; b) Create Your Own Module <br>"
   ]
  },
  {
   "cell_type": "markdown",
   "metadata": {},
   "source": [
    "## Dictionary <br>\n",
    "<p>A collection of data with 'key:value' pairs. Dictionaries are ordered as of Python 3.6</p>"
   ]
  },
  {
   "cell_type": "markdown",
   "metadata": {},
   "source": [
    "##### Declaring (key, value)"
   ]
  },
  {
   "cell_type": "code",
   "execution_count": 1,
   "metadata": {},
   "outputs": [],
   "source": [
    "# keys should be unique\n",
    "# can use numbers or strings as keys\n",
    "\n",
    "dict1 = {}\n",
    "dict2 = dict()\n",
    "dict3 = {\n",
    "    \"Tom\": \"123 Main St\",\n",
    "    \"Jerry\": \"124 Main St\",\n",
    "    \"Spike\": \"125 Main St\",\n",
    "    0: \"This is a value of 0 for the key 0\"\n",
    "}"
   ]
  },
  {
   "cell_type": "markdown",
   "metadata": {},
   "source": [
    "##### Accessing Values"
   ]
  },
  {
   "cell_type": "code",
   "execution_count": 2,
   "metadata": {},
   "outputs": [
    {
     "name": "stdout",
     "output_type": "stream",
     "text": [
      "123 Main St\n"
     ]
    }
   ],
   "source": [
    "# dict[key]\n",
    "\n",
    "print(dict3[\"Tom\"])"
   ]
  },
  {
   "cell_type": "markdown",
   "metadata": {},
   "source": [
    "## In-Class Exercise #1 - Print a formatted statement from the dictionary below <br>\n",
    "<p>The output should be '2018 Chevrolet Silverado'</p>"
   ]
  },
  {
   "cell_type": "code",
   "execution_count": 9,
   "metadata": {},
   "outputs": [
    {
     "name": "stdout",
     "output_type": "stream",
     "text": [
      "2018 Chevrolet Silverado\n",
      "2018 Chevrolet Silverado\n"
     ]
    }
   ],
   "source": [
    "# use the dict below\n",
    "truck = {\n",
    "    \"year\": 2018,\n",
    "    'make': 'Chevrolet',\n",
    "    'model': 'Silverado'\n",
    "}\n",
    "\n",
    "print(f'{truck[\"year\"]} {truck[\"make\"]} {truck[\"model\"]}')"
   ]
  },
  {
   "cell_type": "markdown",
   "metadata": {},
   "source": [
    "##### Adding New Pairs"
   ]
  },
  {
   "cell_type": "code",
   "execution_count": 12,
   "metadata": {},
   "outputs": [
    {
     "name": "stdout",
     "output_type": "stream",
     "text": [
      "{'Tom': '123 Main St', 'Jerry': '124 Main St', 'Spike': '125 Main St', 0: 'This is a value of 0 for the key 0', 'Tyke': '125 Main St'}\n"
     ]
    }
   ],
   "source": [
    "# dict[key] = value\n",
    "dict3 = {\n",
    "    \"Tom\": \"123 Main St\",\n",
    "    \"Jerry\": \"124 Main St\",\n",
    "    \"Spike\": \"125 Main St\",\n",
    "    0: \"This is a value of 0 for the key 0\"\n",
    "}\n",
    "\n",
    "dict3[\"Tyke\"] = \"125 Main St\"\n",
    "\n",
    "print(dict3)"
   ]
  },
  {
   "cell_type": "markdown",
   "metadata": {},
   "source": [
    "##### Modifying Values"
   ]
  },
  {
   "cell_type": "code",
   "execution_count": 13,
   "metadata": {},
   "outputs": [
    {
     "name": "stdout",
     "output_type": "stream",
     "text": [
      "{'Tom': '120 Main St', 'Jerry': '124 Main St', 'Spike': '125 Main St', 0: 'This is a value of 0 for the key 0', 'Tyke': '125 Main St'}\n"
     ]
    }
   ],
   "source": [
    "# dict[key] = value\n",
    "\n",
    "dict3[\"Tom\"] = \"120 Main St\"\n",
    "print(dict3)"
   ]
  },
  {
   "cell_type": "markdown",
   "metadata": {},
   "source": [
    "##### Removing Key, Value Pairs"
   ]
  },
  {
   "cell_type": "code",
   "execution_count": 16,
   "metadata": {},
   "outputs": [
    {
     "name": "stdout",
     "output_type": "stream",
     "text": [
      "{'Tom': '120 Main St', 'Jerry': '124 Main St', 'Spike': '125 Main St', 0: 'This is a value of 0 for the key 0', 'Tyke': '125 Main St'}\n",
      "{'Tom': '120 Main St', 'Jerry': '124 Main St', 'Spike': '125 Main St', 'Tyke': '125 Main St'}\n"
     ]
    }
   ],
   "source": [
    "# del dict[key]\n",
    "\n",
    "print(dict3)\n",
    "del dict3[0]\n",
    "\n",
    "print(dict3)"
   ]
  },
  {
   "cell_type": "markdown",
   "metadata": {},
   "source": [
    "##### Looping a Dictionary"
   ]
  },
  {
   "cell_type": "code",
   "execution_count": 19,
   "metadata": {},
   "outputs": [
    {
     "name": "stdout",
     "output_type": "stream",
     "text": [
      "Tom 120 Main St\n",
      "Jerry 124 Main St\n",
      "Spike 125 Main St\n",
      "Tyke 125 Main St\n"
     ]
    }
   ],
   "source": [
    "# dict.items()\n",
    "# a, b, c = 1, 2, 3\n",
    "\n",
    "for name, address in dict3.items():\n",
    "    print(name, address)"
   ]
  },
  {
   "cell_type": "markdown",
   "metadata": {},
   "source": [
    "##### Looping Only Keys"
   ]
  },
  {
   "cell_type": "code",
   "execution_count": 20,
   "metadata": {},
   "outputs": [
    {
     "name": "stdout",
     "output_type": "stream",
     "text": [
      "Tom\n",
      "Jerry\n",
      "Spike\n",
      "Tyke\n",
      "Tom\n",
      "Jerry\n",
      "Spike\n",
      "Tyke\n"
     ]
    }
   ],
   "source": [
    "# .keys()\n",
    "\n",
    "for key in dict3.keys():\n",
    "    print(key)\n",
    "\n",
    "for key in dict3:\n",
    "    print(key)\n",
    "    \n",
    "# using .keys() is the default looping method for dicts"
   ]
  },
  {
   "cell_type": "markdown",
   "metadata": {},
   "source": [
    "##### Looping Only Values"
   ]
  },
  {
   "cell_type": "code",
   "execution_count": 22,
   "metadata": {
    "scrolled": true
   },
   "outputs": [
    {
     "name": "stdout",
     "output_type": "stream",
     "text": [
      "120 Main St\n",
      "124 Main St\n",
      "125 Main St\n",
      "125 Main St\n",
      "\n",
      "['120 Main St', '124 Main St', '125 Main St', '125 Main St']\n"
     ]
    }
   ],
   "source": [
    "# .values()\n",
    "for value in dict3.values():\n",
    "    print(value)\n",
    "\n",
    "print(\"\")\n",
    "\n",
    "# list comprehension with our values\n",
    "address_list = [value for value in dict3.values()]\n",
    "print(address_list)"
   ]
  },
  {
   "cell_type": "markdown",
   "metadata": {},
   "source": [
    "## In-Class Exercise #2 - Create a Function that Prints All Key Value Pairs within a print .format() <br>\n",
    "<p><b>Output should be:</b><br>\n",
    "Max has blue eyes<br>\n",
    "Lilly has brown eyes<br>\n",
    "Barney has blue eyes<br>\n",
    "etc.\n",
    "</p>"
   ]
  },
  {
   "cell_type": "code",
   "execution_count": 23,
   "metadata": {},
   "outputs": [
    {
     "name": "stdout",
     "output_type": "stream",
     "text": [
      "Max has blue eyes\n",
      "Lilly has brown eyes\n",
      "Barney has blue eyes\n"
     ]
    }
   ],
   "source": [
    "# use the dict below\n",
    "\n",
    "eyeballs = {\n",
    "    \"Max\": \"blue eyes\",\n",
    "    \"Lilly\": \"brown eyes\",\n",
    "    \"Barney\": \"blue eyes\",\n",
    "}\n",
    "\n",
    "for name, color in eyeballs.items():\n",
    "    print(f\"{name} has {color}\")"
   ]
  },
  {
   "cell_type": "markdown",
   "metadata": {},
   "source": [
    "##### sorted()"
   ]
  },
  {
   "cell_type": "code",
   "execution_count": 26,
   "metadata": {},
   "outputs": [
    {
     "name": "stdout",
     "output_type": "stream",
     "text": [
      "['Barney', 'Lilly', 'Max']\n",
      "['Barney', 'Lilly', 'Max']\n",
      "['blue eyes', 'blue eyes', 'brown eyes']\n"
     ]
    }
   ],
   "source": [
    "# sorts variables in order\n",
    "# sorted(dict.values()) or dict.keys() or dict.items()\n",
    "# does this alphabetically/numerically by key\n",
    "# capital letters are sorted first, then lowercase letters\n",
    "\n",
    "eyeballs = {\n",
    "    \"Max\": \"blue eyes\",\n",
    "    \"Lilly\": \"brown eyes\",\n",
    "    \"Barney\": \"blue eyes\",\n",
    "}\n",
    "\n",
    "print(sorted(eyeballs))\n",
    "print(sorted(eyeballs.keys()))\n",
    "print(sorted(eyeballs.values()))"
   ]
  },
  {
   "cell_type": "markdown",
   "metadata": {},
   "source": [
    "##### List with Dictionaries"
   ]
  },
  {
   "cell_type": "code",
   "execution_count": 1,
   "metadata": {},
   "outputs": [
    {
     "name": "stdout",
     "output_type": "stream",
     "text": [
      "Alex\n"
     ]
    }
   ],
   "source": [
    "my_list = [1, 3, 5, 3,5, 6.7, 12.8, \"mega man\", \"lando\", \"water bottle\"]\n",
    "my_list2 = [1, 45, 78, [\"Ryan\", \"Alex\", \"Tarun\"]]\n",
    "print(my_list2[3][1])\n",
    "\n",
    "pokeballs = [\"Poke Ball\", \"Great Ball\", {\"Master Ball\": \"Lugia\", \"Ultra Ball\": \"Tauros\"}]\n",
    "print(pokeballs)\n",
    "print(pokeballs[2][\"Master Ball\"])"
   ]
  },
  {
   "cell_type": "markdown",
   "metadata": {},
   "source": [
    "##### Dictionaries with Lists"
   ]
  },
  {
   "cell_type": "code",
   "execution_count": 9,
   "metadata": {},
   "outputs": [
    {
     "name": "stdout",
     "output_type": "stream",
     "text": [
      "{'list_1': [54, 90, 10], 'name_list': ['Perry', 'Tarun', 'Raul']}\n",
      "54\n",
      "54\n",
      "90\n",
      "10\n",
      "Perry\n",
      "Tarun\n",
      "Raul\n",
      "Perry\n",
      "Tarun\n",
      "Raul\n"
     ]
    }
   ],
   "source": [
    "# be careful when using numbers as keys in dictionaries, don't confuse them with indexes\n",
    "\n",
    "random_data = {\n",
    "    \"list_1\": [54, 90, 10],\n",
    "    \"name_list\": [\"Perry\", \"Tarun\", \"Raul\"],\n",
    "}\n",
    "\n",
    "print(random_data)\n",
    "print(random_data[\"list_1\"][0])\n",
    "\n",
    "for val in random_data[\"list_1\"]:\n",
    "    print(val)\n",
    "    \n",
    "for name in random_data[\"name_list\"]:\n",
    "    print(name)\n",
    "    \n",
    "for i in range(len(random_data[\"name_list\"])):\n",
    "    print(random_data[\"name_list\"][i])"
   ]
  },
  {
   "cell_type": "markdown",
   "metadata": {},
   "source": [
    "##### Dictionaries with Dictionaries"
   ]
  },
  {
   "cell_type": "code",
   "execution_count": 10,
   "metadata": {},
   "outputs": [],
   "source": [
    "# to get values, must traverse through keys\n",
    "\n",
    "food_dict = {\n",
    "    \"Ryan\": {\n",
    "        \"desserts\": [\"Pie\", \"chocolate chip cookes\", \"ice cream\", \"muffins\"],\n",
    "        \"noodles\": [\"Ramen\", \"Pho\", \"Shells\"],\n",
    "        \"hispanic\": [\"Tacos\", \"Tacos\", \"Tacos\"]\n",
    "    },\n",
    "    'Alex': {\n",
    "        'hispanic': ['Pupusas', 'Tamales', 'Arepas'],\n",
    "        'italian' : ['Lasagna', 'Spaghetti', 'Pizza'],\n",
    "        'sweets': ['Ice Cream', 'Canolis', 'Souffle']\n",
    "    },\n",
    "    \"Teddie\": {\n",
    "        \"desserts\": [\"creme brulee\", \"gelato\"],\n",
    "        \"noodles\": [\"ramen\", \"spagetti\"],\n",
    "        \"thai\": [\"moo ping\", \"gung pow\", \"pad thai\"]\n",
    "    },\n",
    "    \"Aften\": {\n",
    "        \"Cheeses\": [\"Melted\", \"Extra Sharp Cheddar\", \"Halloumi\", \"Goat\"],\n",
    "        \"Pickles\" : [\"Dill\", \"Zesty\", \"Kosher\", \"Fried\"],\n",
    "        \"Breads\" : [\"Gluten Free\", \"Without Gluten\", \"Gluten-less\", \"Sans Gluten\"]\n",
    "    },\n",
    "    'Tarun': {\n",
    "        'desserts': ['Pie', 'cookie dough', 'cupcakes'],\n",
    "        'indian': ['butter chicken', 'paneer bhurji', 'garlic naan'],\n",
    "        'korean': ['bibimbap', 'jjajangmyeon', 'wings']\n",
    "    },\n",
    "    \"Dyonne\": {\n",
    "        \"desserts\": [\"chocolate chip cookies\", \"brownies\", \"ice cream\"],\n",
    "        \"seafood\": [\"crab\", \"shrimp\", \"crawfish\"],\n",
    "        \"beverages\": [\"water\", \"margarita\", \"red wine\"]\n",
    "    },\n",
    "    \"Kelsey\": {\n",
    "        \"noodles\": [\"rigatoni\", \"ramen\", \"tortellini\"],\n",
    "        \"desserts\": [\"chocolate\", \"cookies\", \"ice cream\"],\n",
    "        \"hispanic\": [\"tacos\", \"Enchiladas\"]\n",
    "    },\n",
    "     \"Steve\": {\n",
    "        \"desserts\": [\"anything chocolate\", \"cherry pie\", \"fresh fruit\"],\n",
    "        \"noodles\": [\"ramen\", \"pho\", \"udon\"],\n",
    "        \"hispanic\": [\"tacos\", \"nachos\", \"tostados\"]\n",
    "    },\n",
    "     \"Katie\": {\n",
    "        \"desserts\": [\"chocolate chip cookies\", \"ice cream\", \"cake\"],\n",
    "        \"eggs\": [\"skillet\", \"scrambled\", \"over medium\"],\n",
    "        \"pizza\": [\"margerita\",\"cheese\",\"deep dish\"]\n",
    "        \n",
    "    },\n",
    "    \"Raul\": {\n",
    "        \"desserts\": [\"Cheesecake\", \"chocolate chip cookies\", \"Ice crem\", ],\n",
    "        \"noodles\": [\"Ramen\", \"Spaguettis\"],\n",
    "        \"Cuban\": [\"Congris\", \"Rosted pork\", \"Fried plantain\"]\n",
    "        \n",
    "    },\n",
    "    \"Kathy\": {\n",
    "        \"desserts\": [\"ice cream\", \"lava cake\", \"donuts\"],\n",
    "        \"asian\": [\"ramen\", \"sushi\", \"kbbq\"],\n",
    "        \"american\": [\"burgers\", \"pizza\", \"buffalo chicken dip\"],\n",
    "    },\n",
    "    \"Perry\": {\n",
    "        \"sweets\": ['bear claw', 'twinkeis', 'red velvet'],\n",
    "        \"assorted\": ['cheeseburgers', 'steak', 'hummus'],\n",
    "        \"asian\": ['tteokbakki', 'larb', 'tofu skins']\n",
    "    },\n",
    "    \"Chris\": {\n",
    "        \"Noods\": [\"naengmyeon\", \"jjajangmyeon\", \"ramen\", \"udon\"],\n",
    "        \"Indian\": [\"Paneer Makhani\", \"Goat Biryani\", \"Garlic Naan\"],\n",
    "        \"College\": [\"Pizza\", \"Mayo Bread\", \"pork sandwhich\"]\n",
    "    }\n",
    "}\n"
   ]
  },
  {
   "cell_type": "code",
   "execution_count": 11,
   "metadata": {},
   "outputs": [
    {
     "name": "stdout",
     "output_type": "stream",
     "text": [
      "Pie\n",
      "chocolate chip cookes\n",
      "ice cream\n",
      "muffins\n"
     ]
    }
   ],
   "source": [
    "for dessert in food_dict[\"Ryan\"][\"desserts\"]:\n",
    "    print(dessert)"
   ]
  },
  {
   "cell_type": "code",
   "execution_count": 13,
   "metadata": {},
   "outputs": [
    {
     "name": "stdout",
     "output_type": "stream",
     "text": [
      "\n",
      "Here are our favorite foods: \n",
      "\n",
      "Ryan - desserts\n",
      "Ryan - noodles\n",
      "Ryan - hispanic\n",
      "Alex - hispanic\n",
      "Alex - italian\n",
      "Alex - sweets\n",
      "Teddie - desserts\n",
      "Teddie - noodles\n",
      "Teddie - thai\n",
      "Aften - Cheeses\n",
      "Aften - Pickles\n",
      "Aften - Breads\n",
      "Tarun - desserts\n",
      "Tarun - indian\n",
      "Tarun - korean\n",
      "Dyonne - desserts\n",
      "Dyonne - seafood\n",
      "Dyonne - beverages\n",
      "Kelsey - noodles\n",
      "Kelsey - desserts\n",
      "Kelsey - hispanic\n",
      "Steve - desserts\n",
      "Steve - noodles\n",
      "Steve - hispanic\n",
      "Katie - desserts\n",
      "Katie - eggs\n",
      "Katie - pizza\n",
      "Raul - desserts\n",
      "Raul - noodles\n",
      "Raul - Cuban\n",
      "Kathy - desserts\n",
      "Kathy - asian\n",
      "Kathy - american\n",
      "Perry - sweets\n",
      "Perry - assorted\n",
      "Perry - asian\n",
      "Chris - Noods\n",
      "Chris - Indian\n",
      "Chris - College\n"
     ]
    }
   ],
   "source": [
    "# Everyone's favorite foods\n",
    "print(\"\\nHere are our favorite foods: \\n\")\n",
    "for name in food_dict.keys():\n",
    "    for food_type in food_dict[name]:\n",
    "        print(f\"{name} - {food_type}\")"
   ]
  },
  {
   "cell_type": "code",
   "execution_count": 20,
   "metadata": {},
   "outputs": [
    {
     "name": "stdout",
     "output_type": "stream",
     "text": [
      "\n",
      "Here are our favorite foods: \n",
      "\n",
      "\n",
      "Ryan's favorite foods:\n",
      "\tPie\n",
      "\tchocolate chip cookes\n",
      "\tice cream\n",
      "\tmuffins\n",
      "\tRamen\n",
      "\tPho\n",
      "\tShells\n",
      "\tTacos\n",
      "\tTacos\n",
      "\tTacos\n",
      "\n",
      "Alex's favorite foods:\n",
      "\tPupusas\n",
      "\tTamales\n",
      "\tArepas\n",
      "\tLasagna\n",
      "\tSpaghetti\n",
      "\tPizza\n",
      "\tIce Cream\n",
      "\tCanolis\n",
      "\tSouffle\n",
      "\n",
      "Teddie's favorite foods:\n",
      "\tcreme brulee\n",
      "\tgelato\n",
      "\tramen\n",
      "\tspagetti\n",
      "\tmoo ping\n",
      "\tgung pow\n",
      "\tpad thai\n",
      "\n",
      "Aften's favorite foods:\n",
      "\tMelted\n",
      "\tExtra Sharp Cheddar\n",
      "\tHalloumi\n",
      "\tGoat\n",
      "\tDill\n",
      "\tZesty\n",
      "\tKosher\n",
      "\tFried\n",
      "\tGluten Free\n",
      "\tWithout Gluten\n",
      "\tGluten-less\n",
      "\tSans Gluten\n",
      "\n",
      "Tarun's favorite foods:\n",
      "\tPie\n",
      "\tcookie dough\n",
      "\tcupcakes\n",
      "\tbutter chicken\n",
      "\tpaneer bhurji\n",
      "\tgarlic naan\n",
      "\tbibimbap\n",
      "\tjjajangmyeon\n",
      "\twings\n",
      "\n",
      "Dyonne's favorite foods:\n",
      "\tchocolate chip cookies\n",
      "\tbrownies\n",
      "\tice cream\n",
      "\tcrab\n",
      "\tshrimp\n",
      "\tcrawfish\n",
      "\twater\n",
      "\tmargarita\n",
      "\tred wine\n",
      "\n",
      "Kelsey's favorite foods:\n",
      "\trigatoni\n",
      "\tramen\n",
      "\ttortellini\n",
      "\tchocolate\n",
      "\tcookies\n",
      "\tice cream\n",
      "\ttacos\n",
      "\tEnchiladas\n",
      "\n",
      "Steve's favorite foods:\n",
      "\tanything chocolate\n",
      "\tcherry pie\n",
      "\tfresh fruit\n",
      "\tramen\n",
      "\tpho\n",
      "\tudon\n",
      "\ttacos\n",
      "\tnachos\n",
      "\ttostados\n",
      "\n",
      "Katie's favorite foods:\n",
      "\tchocolate chip cookies\n",
      "\tice cream\n",
      "\tcake\n",
      "\tskillet\n",
      "\tscrambled\n",
      "\tover medium\n",
      "\tmargerita\n",
      "\tcheese\n",
      "\tdeep dish\n",
      "\n",
      "Raul's favorite foods:\n",
      "\tCheesecake\n",
      "\tchocolate chip cookies\n",
      "\tIce crem\n",
      "\tRamen\n",
      "\tSpaguettis\n",
      "\tCongris\n",
      "\tRosted pork\n",
      "\tFried plantain\n",
      "\n",
      "Kathy's favorite foods:\n",
      "\tice cream\n",
      "\tlava cake\n",
      "\tdonuts\n",
      "\tramen\n",
      "\tsushi\n",
      "\tkbbq\n",
      "\tburgers\n",
      "\tpizza\n",
      "\tbuffalo chicken dip\n",
      "\n",
      "Perry's favorite foods:\n",
      "\tbear claw\n",
      "\ttwinkeis\n",
      "\tred velvet\n",
      "\tcheeseburgers\n",
      "\tsteak\n",
      "\thummus\n",
      "\ttteokbakki\n",
      "\tlarb\n",
      "\ttofu skins\n",
      "\n",
      "Chris's favorite foods:\n",
      "\tnaengmyeon\n",
      "\tjjajangmyeon\n",
      "\tramen\n",
      "\tudon\n",
      "\tPaneer Makhani\n",
      "\tGoat Biryani\n",
      "\tGarlic Naan\n",
      "\tPizza\n",
      "\tMayo Bread\n",
      "\tpork sandwhich\n"
     ]
    }
   ],
   "source": [
    "# Everyone's favorite foods\n",
    "print(\"\\nHere are our favorite foods: \\n\")\n",
    "for name in food_dict.keys():\n",
    "    print(f\"\\n{name}'s favorite foods:\")\n",
    "    for food_type in food_dict[name]:\n",
    "        for food in food_dict[name][food_type]:\n",
    "            print(f\"\\t{food}\")"
   ]
  },
  {
   "cell_type": "markdown",
   "metadata": {},
   "source": [
    "## Dictionaries vs. Lists (over time) Example of RUNTIME\n",
    "### When inputting values in a Dictionary vs List"
   ]
  },
  {
   "cell_type": "code",
   "execution_count": 28,
   "metadata": {},
   "outputs": [],
   "source": [
    "import time\n",
    "\n",
    "# Generate a dictionary\n",
    "d = {}\n",
    "\n",
    "for i in range(10000000):\n",
    "    d[i] = \"value \" + str(i)\n",
    "\n",
    "# Generate a list\n",
    "big_list = [x for x in range(10000000)]"
   ]
  },
  {
   "cell_type": "code",
   "execution_count": 32,
   "metadata": {},
   "outputs": [
    {
     "name": "stdout",
     "output_type": "stream",
     "text": [
      "value 9999999\n",
      "0.0009970664978027344\n",
      "999999\n",
      "0.7859108448028564\n",
      "9999999\n",
      "0.0\n"
     ]
    }
   ],
   "source": [
    "# track the time for the dictionary\n",
    "\n",
    "start_time = time.time()\n",
    "print(d[9999999])\n",
    "end_time = time.time() - start_time\n",
    "print(end_time)\n",
    "\n",
    "# track the time for the list\n",
    "start_time = time.time()\n",
    "for i in range(len(big_list)):\n",
    "    if i == 999999:\n",
    "        print(i)\n",
    "end_time = time.time() - start_time\n",
    "print(end_time)\n",
    "\n",
    "# this shows that the elapsed time to process a dictionary is much quicker than processing a list\n",
    "# this is due to the \"hash function\" that is within dictionaries\n",
    "# in dicts, we are just looking for the key which has a known location,\n",
    "# whereas the list, we need to loop through the entire list to find our item because we don't know the location\n",
    "\n",
    "# tracking time for list with known position\n",
    "start_time = time.time()\n",
    "print(big_list[-1])\n",
    "end_time = time.time() - start_time\n",
    "print(end_time)"
   ]
  },
  {
   "cell_type": "markdown",
   "metadata": {},
   "source": [
    "## Exercise #3 - Write a Function that asks someone's name and address, and then stores that into a dictionary, and continues to do so until they choose to 'quit'. Once they quit, the program should print all names and addresses. <br>\n",
    "<p>\n",
    "<b>Proper steps:</b><br>\n",
    "step 1: write a function that takes in information and stores it in a dictionary<br>\n",
    "step 2: define an empty dictionary to work with<br>\n",
    "step 3: create our loop, which asks the user for information until they quit<br>\n",
    "step 4: ask for the information, and store it into variables<br>\n",
    "step 5: check if the user types quit<br>\n",
    "step 5a: print out all information<br>\n",
    "step 5b: break out of the loop<br>\n",
    "step 6: if they didn't quit, add the information to the dictionary<br>\n",
    "step 7: invoke the function by calling it\n",
    "</p>"
   ]
  },
  {
   "cell_type": "code",
   "execution_count": 40,
   "metadata": {},
   "outputs": [
    {
     "name": "stdout",
     "output_type": "stream",
     "text": [
      "Enter a name or enter 'quit' to quit: quit\n",
      "The address for kathy is 123 main st\n",
      "The address for john is 124 main st\n"
     ]
    }
   ],
   "source": [
    "from IPython.display import clear_output\n",
    "\n",
    "# Step 1\n",
    "def storeInfo():\n",
    "    d = {}\n",
    "    \n",
    "    while True:\n",
    "        name = input(\"Enter a name or enter 'quit' to quit: \")\n",
    "        if name.lower().strip() != \"quit\":\n",
    "            address = input(\"Enter an address or enter 'quit' to quit: \")\n",
    "            clear_output()\n",
    "        \n",
    "        if name.lower().strip() == \"quit\" or address.lower().strip() == \"quit\":\n",
    "            for name, address in d.items():\n",
    "                print(f\"The address for {name} is {address}\")\n",
    "            break\n",
    "        \n",
    "        d[name] = address\n",
    "\n",
    "storeInfo()\n",
    "            \n",
    "        \n",
    "        "
   ]
  },
  {
   "cell_type": "markdown",
   "metadata": {},
   "source": [
    "## Set <br>\n",
    "<p>A Set is an unordered collection data type that is iterable (loop), mutable, and has no duplicate elements.<br>Major advantage is that it is highly optimized in checking if something is in the set, as opposed to checking if something is in a list.</p>"
   ]
  },
  {
   "cell_type": "markdown",
   "metadata": {},
   "source": [
    "##### Declaring"
   ]
  },
  {
   "cell_type": "code",
   "execution_count": 54,
   "metadata": {},
   "outputs": [
    {
     "name": "stdout",
     "output_type": "stream",
     "text": [
      "{2, 5, 6}\n",
      "{8, 1, 4}\n"
     ]
    }
   ],
   "source": [
    "# set([]) or {}\n",
    "# no order {3, 2, 1} outputs as {1, 2, 3}\n",
    "our_set = set([2,5,6])\n",
    "print(our_set)\n",
    "nums = {4, 1, 8, 4}\n",
    "print(nums) # this will automaticlly remove any duplicates"
   ]
  },
  {
   "cell_type": "markdown",
   "metadata": {},
   "source": [
    "##### .add()"
   ]
  },
  {
   "cell_type": "code",
   "execution_count": 44,
   "metadata": {},
   "outputs": [
    {
     "name": "stdout",
     "output_type": "stream",
     "text": [
      "{8, 1, 4, 22}\n"
     ]
    }
   ],
   "source": [
    "# set.add()\n",
    "nums = {1, 8, 4}\n",
    "nums.add(22) # adds item to our set\n",
    "print(nums)"
   ]
  },
  {
   "cell_type": "markdown",
   "metadata": {},
   "source": [
    "##### .remove()"
   ]
  },
  {
   "cell_type": "code",
   "execution_count": 45,
   "metadata": {},
   "outputs": [
    {
     "name": "stdout",
     "output_type": "stream",
     "text": [
      "{8, 1, 4}\n"
     ]
    }
   ],
   "source": [
    "# removes by value\n",
    "# set.remove()\n",
    "# nums.remove(56)\n",
    "nums.remove(22)\n",
    "print(nums)"
   ]
  },
  {
   "cell_type": "markdown",
   "metadata": {},
   "source": [
    "##### .union() "
   ]
  },
  {
   "cell_type": "code",
   "execution_count": 49,
   "metadata": {},
   "outputs": [
    {
     "name": "stdout",
     "output_type": "stream",
     "text": [
      "{1, 2, 3, 4, 5, 6}\n",
      "{1, 2, 3, 4, 5, 6}\n"
     ]
    }
   ],
   "source": [
    "# Returns a union of two sets, can also use '|' or set.union(set)\n",
    "# joins all numbers, gets rid of duplicates\n",
    "\n",
    "s1 = {1, 2, 3, 4}\n",
    "s2 = {3, 4, 5, 6}\n",
    "\n",
    "s3 = s1.union(s2)\n",
    "print(s3)\n",
    "\n",
    "s4 = s1 | s2\n",
    "print(s4)"
   ]
  },
  {
   "cell_type": "markdown",
   "metadata": {},
   "source": [
    "##### .intersection()"
   ]
  },
  {
   "cell_type": "code",
   "execution_count": 50,
   "metadata": {},
   "outputs": [
    {
     "name": "stdout",
     "output_type": "stream",
     "text": [
      "{3, 4}\n",
      "{3, 4}\n"
     ]
    }
   ],
   "source": [
    "# Returns an intersection of two sets, can also use '&'\n",
    "# only takes similar elements from both sets (meaning what items exists in both sets)\n",
    "\n",
    "s1 = {1, 2, 3, 4}\n",
    "s2 = {3, 4, 5, 6}\n",
    "\n",
    "s5 = s1.intersection(s2)\n",
    "s6 = s1 & s2\n",
    "\n",
    "print(s5)\n",
    "print(s6)"
   ]
  },
  {
   "cell_type": "markdown",
   "metadata": {},
   "source": [
    "##### .difference()"
   ]
  },
  {
   "cell_type": "code",
   "execution_count": 51,
   "metadata": {},
   "outputs": [
    {
     "name": "stdout",
     "output_type": "stream",
     "text": [
      "{1, 2}\n",
      "{5, 6}\n"
     ]
    }
   ],
   "source": [
    "# Returns a set containing all the elements of invoking set that are not in the second set, can also use '-'\n",
    "# only takes values from the first set that are not in the second set\n",
    "# order matters! (s2.difference(s1) vs s1 - s2)\n",
    "\n",
    "s1 = {1, 2, 3, 4}\n",
    "s2 = {3, 4, 5, 6}\n",
    "\n",
    "s7 = s1 - s2\n",
    "s8 = s2.difference(s1)\n",
    "print(s7)\n",
    "print(s8)\n",
    "# think of whatever set is defined first is the one that's going \"exist\""
   ]
  },
  {
   "cell_type": "markdown",
   "metadata": {},
   "source": [
    "##### .clear()"
   ]
  },
  {
   "cell_type": "code",
   "execution_count": 52,
   "metadata": {},
   "outputs": [
    {
     "name": "stdout",
     "output_type": "stream",
     "text": [
      "{5, 6}\n",
      "set()\n"
     ]
    }
   ],
   "source": [
    "# Empties the whole set\n",
    "# set.clear()\n",
    "print(s8)\n",
    "s8.clear()\n",
    "print(s8)"
   ]
  },
  {
   "cell_type": "code",
   "execution_count": null,
   "metadata": {},
   "outputs": [],
   "source": []
  },
  {
   "cell_type": "markdown",
   "metadata": {},
   "source": [
    "##### Frozenset <br>\n",
    "<p>Frozen sets are immutable objects that only support methods and operators that produce a result without affecting the frozen set or sets to which they are applied.</p><br><b>Unique & Immutable</b>"
   ]
  },
  {
   "cell_type": "code",
   "execution_count": 53,
   "metadata": {},
   "outputs": [
    {
     "name": "stdout",
     "output_type": "stream",
     "text": [
      "frozenset({1, 2, 3, 4})\n"
     ]
    }
   ],
   "source": [
    "# frozenset([])\n",
    "# cannot clear(), remove(), or add() to a frozen set\n",
    "\n",
    "s1 = {1, 2, 3, 4}\n",
    "my_frozen_set = frozenset(s1)\n",
    "print(my_frozen_set)"
   ]
  },
  {
   "cell_type": "markdown",
   "metadata": {},
   "source": [
    "## Modules"
   ]
  },
  {
   "cell_type": "markdown",
   "metadata": {},
   "source": [
    "##### Importing Entire Modules"
   ]
  },
  {
   "cell_type": "code",
   "execution_count": null,
   "metadata": {},
   "outputs": [],
   "source": [
    "# import                               // this imports the entire model\n",
    "# or \n",
    "# from *module* import *function*     // this imports a function from a module\n",
    "\n",
    "\n"
   ]
  },
  {
   "cell_type": "markdown",
   "metadata": {},
   "source": [
    "##### Importing Methods Only"
   ]
  },
  {
   "cell_type": "code",
   "execution_count": null,
   "metadata": {},
   "outputs": [],
   "source": [
    "# from 'xxx' import 'xxx'\n",
    "# from math import floor\n",
    "\n"
   ]
  },
  {
   "cell_type": "markdown",
   "metadata": {},
   "source": [
    "##### Using the 'as' Keyword"
   ]
  },
  {
   "cell_type": "code",
   "execution_count": 55,
   "metadata": {},
   "outputs": [
    {
     "name": "stdout",
     "output_type": "stream",
     "text": [
      "3\n"
     ]
    }
   ],
   "source": [
    "# from 'xxx' import 'xxx' as 'xxx' or import 'xxx' as 'xxx'\n",
    "# from math import floor as f\n",
    "# this renames the function in case it will conflict with your code\n",
    "\n",
    "from math import floor as f, pi as p\n",
    "print(f(p))\n"
   ]
  },
  {
   "cell_type": "markdown",
   "metadata": {},
   "source": [
    "##### Creating a Module"
   ]
  },
  {
   "cell_type": "code",
   "execution_count": 56,
   "metadata": {},
   "outputs": [
    {
     "name": "stdout",
     "output_type": "stream",
     "text": [
      "Hello Mr/Ms Kathy...we've been waiting for you!\n"
     ]
    }
   ],
   "source": [
    "from module import printName as pn\n",
    "\n",
    "pn(\"Kathy\")"
   ]
  },
  {
   "cell_type": "markdown",
   "metadata": {},
   "source": [
    "# Exercises"
   ]
  },
  {
   "cell_type": "markdown",
   "metadata": {},
   "source": [
    "### 1) Build a Shopping Cart <br>\n",
    "<p><b>You can use either lists or dictionaries. The program should have the following capabilities:</b><br><br>\n",
    "1) Takes in input <br>\n",
    "2) Stores user input into a dictionary or list <br>\n",
    "3) The User can add or delete items <br>\n",
    "4) The User can see current shopping list <br>\n",
    "5) The program Loops until user 'quits' <br>\n",
    "6) Upon quiting the program, print out all items in the user's list <br>\n",
    "</p>"
   ]
  },
  {
   "cell_type": "code",
   "execution_count": null,
   "metadata": {},
   "outputs": [],
   "source": []
  },
  {
   "cell_type": "code",
   "execution_count": null,
   "metadata": {},
   "outputs": [],
   "source": [
    "from IPython.display import clear_output\n",
    "\n",
    "# Ask the user four bits of input: Do you want to : Show/Add/Delete or Quit?\n",
    "\n",
    "def shopping_cart():\n",
    "    cart = {}\n",
    "    while True:\n",
    "        user_shopping = input(\"Do you want to: 'show'/'add'/'delete' items in your cart or 'quit'? \")\n",
    "        if user_shopping.lower().strip() == 'show':\n",
    "            clear_output()\n",
    "            print(\"Your shopping cart currently contains:\")\n",
    "            for item, qty in cart.items():\n",
    "                print(f\"\\t{item}: {qty}\")\n",
    "        if user_shopping.lower().strip() == 'add':\n",
    "            clear_output()\n",
    "            shopping_item = input(\"What item would you like to add? \")\n",
    "            shopping_item_num = input(\"How many? \")\n",
    "            cart[shopping_item.title().strip()] = shopping_item_num.strip()\n",
    "            clear_output()\n",
    "        if user_shopping.lower().strip() == 'delete':\n",
    "            clear_output()\n",
    "            deleted_item = input(\"What item would you like to delete? \")\n",
    "            del cart[deleted_item.title().strip()]\n",
    "            print(f\"Your {deleted_item} has been removed.\")\n",
    "        if user_shopping.lower().strip() == 'quit':\n",
    "            clear_output()\n",
    "            print(f\"Please go to the checkout line to pay for the following items:\")\n",
    "            for item, qty in cart.items():\n",
    "                print(f\"\\t{item}: {qty}\")\n",
    "            break\n",
    "              \n",
    "shopping_cart()"
   ]
  },
  {
   "cell_type": "markdown",
   "metadata": {},
   "source": [
    "### 2) Create a Module in VS Code and Import It into jupyter notebook <br>\n",
    "<p><b>Module should have the following capabilities:</b><br><br>\n",
    "1) Has a function to calculate the square footage of a house <br>\n",
    "    <b>Reminder of Formula: Length X Width == Area<br>\n",
    "        <hr>\n",
    "2) Has a function to calculate the circumference of a circle <br><br>\n",
    "<b>Program in Jupyter Notebook should take in user input and use imported functions to calculate a circle's circumference or a houses square footage</b>\n",
    "</p>"
   ]
  },
  {
   "cell_type": "code",
   "execution_count": 5,
   "metadata": {},
   "outputs": [
    {
     "name": "stdout",
     "output_type": "stream",
     "text": [
      "100\n",
      "62.83185307179586\n"
     ]
    }
   ],
   "source": [
    "# function to calculate square footage\n",
    "from area import calculate_area\n",
    "\n",
    "print(calculate_area(10, 10))\n",
    "\n",
    "\n",
    "\n",
    "# function to calculate circumference\n",
    "from circumference import calculate_circumference\n",
    "\n",
    "print(calculate_circumference(10))"
   ]
  }
 ],
 "metadata": {
  "kernelspec": {
   "display_name": "Python 3 (ipykernel)",
   "language": "python",
   "name": "python3"
  },
  "language_info": {
   "codemirror_mode": {
    "name": "ipython",
    "version": 3
   },
   "file_extension": ".py",
   "mimetype": "text/x-python",
   "name": "python",
   "nbconvert_exporter": "python",
   "pygments_lexer": "ipython3",
   "version": "3.9.13"
  }
 },
 "nbformat": 4,
 "nbformat_minor": 2
}
